{
 "metadata": {
  "name": "",
  "signature": "sha256:f0abf7b557fb5ec70166cb088769bdcc5bff664599cc1a5c39b2221135fa6f1e"
 },
 "nbformat": 3,
 "nbformat_minor": 0,
 "worksheets": [
  {
   "cells": [
    {
     "cell_type": "code",
     "collapsed": false,
     "input": [
      "# Load a pre-trained model\n",
      "from gensim.models import Word2Vec\n",
      "from sklearn.cluster import KMeans\n",
      "import time\n",
      "import pandas as pd\n",
      "from sklearn.ensemble import RandomForestClassifier\n",
      "from bs4 import BeautifulSoup\n",
      "import re\n",
      "from nltk.corpus import stopwords\n",
      "import numpy as np\n",
      "import os\n",
      "#from KaggleWord2VecUtility import KaggleWord2VecUtility\n"
     ],
     "language": "python",
     "metadata": {},
     "outputs": [],
     "prompt_number": 1
    },
    {
     "cell_type": "heading",
     "level": 3,
     "metadata": {},
     "source": [
      "Import KaggleWord2VecUtility"
     ]
    },
    {
     "cell_type": "code",
     "collapsed": false,
     "input": [
      "class KaggleWord2VecUtility(object):\n",
      "    \"\"\"KaggleWord2VecUtility is a utility class for processing raw HTML text into segments for further learning\"\"\"\n",
      "\n",
      "    @staticmethod\n",
      "    def review_to_wordlist( review, remove_stopwords=False ):\n",
      "        # Function to convert a document to a sequence of words,\n",
      "        # optionally removing stop words.  Returns a list of words.\n",
      "        #\n",
      "        # 1. Remove HTML\n",
      "        review_text = BeautifulSoup(review).get_text()\n",
      "        #\n",
      "        # 2. Remove non-letters\n",
      "        review_text = re.sub(\"[^a-zA-Z]\",\" \", review_text)\n",
      "        #\n",
      "        # 3. Convert words to lower case and split them\n",
      "        words = review_text.lower().split()\n",
      "        #\n",
      "        # 4. Optionally remove stop words (false by default)\n",
      "        if remove_stopwords:\n",
      "            stops = set(stopwords.words(\"english\"))\n",
      "            words = [w for w in words if not w in stops]\n",
      "        #\n",
      "        # 5. Return a list of words\n",
      "        return(words)\n",
      "\n",
      "    # Define a function to split a review into parsed sentences\n",
      "    @staticmethod\n",
      "    def review_to_sentences( review, tokenizer, remove_stopwords=False ):\n",
      "        # Function to split a review into parsed sentences. Returns a\n",
      "        # list of sentences, where each sentence is a list of words\n",
      "        #\n",
      "        # 1. Use the NLTK tokenizer to split the paragraph into sentences\n",
      "        raw_sentences = tokenizer.tokenize(review.decode('utf8').strip())\n",
      "        #\n",
      "        # 2. Loop over each sentence\n",
      "        sentences = []\n",
      "        for raw_sentence in raw_sentences:\n",
      "            # If a sentence is empty, skip it\n",
      "            if len(raw_sentence) > 0:\n",
      "                # Otherwise, call review_to_wordlist to get a list of words\n",
      "                sentences.append( KaggleWord2VecUtility.review_to_wordlist( raw_sentence,\n",
      "                  remove_stopwords ))\n",
      "        #\n",
      "        # Return the list of sentences (each sentence is a list of words,\n",
      "        # so this returns a list of lists\n",
      "        return sentences"
     ],
     "language": "python",
     "metadata": {},
     "outputs": [],
     "prompt_number": 2
    },
    {
     "cell_type": "code",
     "collapsed": false,
     "input": [
      "model = Word2Vec.load(\"300features_40minwords_10context\")"
     ],
     "language": "python",
     "metadata": {},
     "outputs": [],
     "prompt_number": 3
    },
    {
     "cell_type": "code",
     "collapsed": false,
     "input": [
      " type(model.syn0)"
     ],
     "language": "python",
     "metadata": {},
     "outputs": [
      {
       "metadata": {},
       "output_type": "pyout",
       "prompt_number": 4,
       "text": [
        "numpy.ndarray"
       ]
      }
     ],
     "prompt_number": 4
    },
    {
     "cell_type": "code",
     "collapsed": false,
     "input": [
      "model.syn0.shape"
     ],
     "language": "python",
     "metadata": {},
     "outputs": [
      {
       "metadata": {},
       "output_type": "pyout",
       "prompt_number": 5,
       "text": [
        "(16490L, 300L)"
       ]
      }
     ],
     "prompt_number": 5
    },
    {
     "cell_type": "code",
     "collapsed": false,
     "input": [
      "model[\"flower\"]"
     ],
     "language": "python",
     "metadata": {},
     "outputs": [
      {
       "metadata": {},
       "output_type": "pyout",
       "prompt_number": 6,
       "text": [
        "array([  6.16756268e-02,   1.09614849e-01,  -1.16691977e-01,\n",
        "        -5.42901158e-02,   7.99153298e-02,  -1.31909177e-03,\n",
        "         7.97968879e-02,   1.62691083e-02,  -3.52856033e-02,\n",
        "        -6.43213221e-04,   4.43575606e-02,   5.25296591e-02,\n",
        "        -1.70108583e-02,   7.05404356e-02,   4.96741310e-02,\n",
        "        -3.83098088e-02,  -6.14228435e-02,  -1.88325043e-03,\n",
        "         1.21967969e-02,  -1.16066486e-01,  -4.44504507e-02,\n",
        "        -3.98369804e-02,  -4.62031476e-02,   4.77805622e-02,\n",
        "         4.20122780e-02,   1.66418217e-02,   1.31398104e-02,\n",
        "        -1.19816691e-01,  -2.60440186e-02,  -1.81920491e-02,\n",
        "         1.19784223e-02,   4.40551713e-02,  -2.33001262e-02,\n",
        "        -5.14574386e-02,  -5.37475897e-03,   5.61478250e-02,\n",
        "         4.40000631e-02,  -1.03057779e-01,  -2.11974774e-02,\n",
        "        -8.17089155e-02,  -5.53783961e-03,  -1.47070794e-03,\n",
        "         2.06992384e-02,  -1.02295198e-01,  -5.69674885e-03,\n",
        "         3.32829989e-02,   2.79270317e-02,   6.16745427e-02,\n",
        "        -4.61936258e-02,   2.10352484e-02,   7.08954036e-02,\n",
        "        -2.10628901e-02,   2.94092763e-02,  -1.40998363e-01,\n",
        "        -6.52809814e-02,   3.22927139e-03,   9.92472544e-02,\n",
        "         1.16470866e-01,   4.49109115e-02,  -1.14313461e-01,\n",
        "        -3.08794691e-03,   5.84994722e-03,  -1.59321707e-02,\n",
        "        -8.18916503e-03,  -1.29683111e-02,  -1.92679577e-02,\n",
        "         7.48836845e-02,  -6.20562676e-03,  -5.57224527e-02,\n",
        "         9.84353200e-03,  -6.50635064e-02,   8.19996446e-02,\n",
        "         1.72372758e-02,  -7.22152740e-02,  -1.22321723e-02,\n",
        "         9.12087783e-02,  -6.97983354e-02,   6.98710009e-02,\n",
        "         2.32841559e-02,  -1.06301962e-03,  -4.56405953e-02,\n",
        "         5.78935817e-02,   2.64364649e-02,  -6.52226508e-02,\n",
        "         1.40870980e-03,   5.37030436e-02,   4.08677980e-02,\n",
        "        -8.45725611e-02,   3.48540954e-02,   1.30830996e-03,\n",
        "        -1.45168513e-01,   4.65144925e-02,   7.56154128e-04,\n",
        "         1.77002323e-04,   6.07047491e-02,   6.35482045e-03,\n",
        "        -6.99543655e-02,  -9.19911952e-04,   1.78538659e-03,\n",
        "         9.94781330e-02,   6.00890256e-02,   1.34578958e-01,\n",
        "        -4.00367901e-02,  -4.41407226e-02,   5.33407666e-02,\n",
        "        -7.08838403e-02,  -8.72641802e-02,   1.38794882e-02,\n",
        "        -9.51026827e-02,  -4.61607464e-02,  -1.51545294e-02,\n",
        "        -1.54754287e-02,   1.08946167e-01,  -2.79261405e-03,\n",
        "         5.35276858e-03,   4.63915095e-02,  -4.84384745e-02,\n",
        "         4.64608595e-02,  -9.12721604e-02,  -8.14723298e-02,\n",
        "        -5.91138154e-02,   5.80759235e-02,  -1.11912061e-02,\n",
        "         4.84410338e-02,  -2.06958428e-02,  -5.82611933e-02,\n",
        "         8.55950639e-02,  -5.46566546e-02,  -1.30085824e-02,\n",
        "        -6.88837618e-02,   5.30254878e-02,   4.96808961e-02,\n",
        "         6.73365146e-02,  -5.53908898e-03,   2.77443193e-02,\n",
        "         8.17263201e-02,   4.60332297e-02,   3.94967161e-02,\n",
        "         1.81969665e-02,  -8.21335688e-02,  -4.74954909e-03,\n",
        "         5.32733910e-02,   7.23892003e-02,   4.62442301e-02,\n",
        "         3.38435173e-02,   1.99642382e-03,  -2.43850611e-02,\n",
        "         3.49214859e-02,   6.35244399e-02,   8.89450219e-03,\n",
        "         5.77848405e-02,  -1.77199990e-02,   6.18283153e-02,\n",
        "        -1.15075797e-01,   7.46627687e-04,   8.31776485e-02,\n",
        "        -4.78861593e-02,  -1.84084033e-03,   1.07677788e-01,\n",
        "         6.64035976e-02,  -1.17272347e-01,   4.69774520e-03,\n",
        "        -5.81939965e-02,   5.06481975e-02,  -6.06540702e-02,\n",
        "         4.40084748e-03,   2.99329087e-02,   3.94557044e-02,\n",
        "         8.06086734e-02,  -1.01143874e-01,  -6.29305840e-02,\n",
        "         5.98351331e-03,   8.17395374e-03,  -2.59083416e-02,\n",
        "         3.23301479e-02,   3.52351330e-02,  -2.54129209e-02,\n",
        "         7.89362937e-02,   6.26734458e-03,  -9.61911827e-02,\n",
        "         3.20449501e-04,   1.61579866e-02,   2.98514944e-02,\n",
        "         8.09692666e-02,  -6.88615590e-02,  -8.95790756e-03,\n",
        "        -1.51647450e-02,   4.57750335e-02,   7.41377920e-02,\n",
        "        -2.09892206e-02,   8.61680806e-02,   5.94964884e-02,\n",
        "         1.67759601e-02,  -3.85886766e-02,  -9.04111862e-02,\n",
        "         1.92398168e-02,  -3.86798047e-02,   4.59566787e-02,\n",
        "        -4.20845374e-02,  -9.47888289e-03,  -6.43274048e-03,\n",
        "        -1.24350172e-02,  -1.19718090e-01,   4.40653153e-02,\n",
        "         5.34848459e-02,  -6.66971132e-02,  -3.75528671e-02,\n",
        "        -3.38601544e-02,   4.10290994e-02,  -1.24111027e-02,\n",
        "        -8.25650841e-02,  -6.92944601e-02,  -1.90378744e-02,\n",
        "         2.88985837e-02,  -1.10454706e-03,   7.11325258e-02,\n",
        "         1.60241634e-05,  -1.62524618e-02,  -1.04076937e-02,\n",
        "        -9.73787233e-02,   9.48955566e-02,   2.88774837e-02,\n",
        "        -7.29311407e-02,   3.10366526e-02,   1.99460872e-02,\n",
        "        -1.02390990e-01,   8.18444565e-02,  -4.49707955e-02,\n",
        "        -7.01939641e-03,   4.12704423e-02,  -6.01277649e-02,\n",
        "        -2.11787298e-02,   2.42840555e-02,  -5.56264967e-02,\n",
        "        -7.97256827e-02,   5.21948338e-02,  -1.18835986e-01,\n",
        "        -5.20821996e-02,  -1.33693069e-02,   7.63359442e-02,\n",
        "         1.91819873e-02,   7.10105943e-03,   4.38641720e-02,\n",
        "        -2.74897311e-02,  -2.21338402e-02,   1.00448564e-01,\n",
        "         8.35497901e-02,   5.29782511e-02,   4.25749533e-02,\n",
        "        -4.14457247e-02,   8.85054655e-03,  -5.03493175e-02,\n",
        "        -7.12910816e-02,  -6.65138885e-02,   4.57477234e-02,\n",
        "        -2.37281360e-02,   4.84450869e-02,   9.35467184e-02,\n",
        "        -3.95166352e-02,  -1.20701119e-01,  -3.49957272e-02,\n",
        "        -9.50592756e-02,   5.48891984e-02,   8.60901922e-03,\n",
        "        -1.22110555e-02,  -4.38245423e-02,   3.41148674e-02,\n",
        "         1.17235363e-01,   6.81818351e-02,  -1.60435773e-02,\n",
        "         3.92544046e-02,  -5.20319231e-02,   1.95353734e-03,\n",
        "         8.62209499e-02,  -9.69532877e-02,   5.13976440e-02,\n",
        "        -1.35658160e-01,   3.87518071e-02,   6.23999685e-02,\n",
        "         9.07609425e-03,  -7.90742263e-02,   7.39714131e-02,\n",
        "        -5.51327690e-02,  -1.58269014e-02,  -1.30273290e-02,\n",
        "         7.86155388e-02,   6.13524392e-03,   2.14966368e-02,\n",
        "         3.54920402e-02,  -4.37447764e-02,   5.99421598e-02,\n",
        "         3.98011245e-02,   7.47038499e-02,  -6.57830248e-03,\n",
        "        -6.68024346e-02,  -3.50631550e-02,  -4.83510159e-02,\n",
        "         9.94386896e-02,   1.67671908e-02,   1.09405249e-01], dtype=float32)"
       ]
      }
     ],
     "prompt_number": 6
    },
    {
     "cell_type": "code",
     "collapsed": false,
     "input": [
      "def makeFeatureVec(words, model, num_features):\n",
      "    # Function to average all of the word vectors in a given\n",
      "    # paragraph\n",
      "    #\n",
      "    # Pre-initialize an empty numpy array (for speed)\n",
      "    featureVec = np.zeros((num_features,),dtype=\"float32\")\n",
      "    #\n",
      "    nwords = 0.\n",
      "    # \n",
      "    # Index2word is a list that contains the names of the words in \n",
      "    # the model's vocabulary. Convert it to a set, for speed \n",
      "    index2word_set = set(model.index2word)\n",
      "    #\n",
      "    # Loop over each word in the review and, if it is in the model's\n",
      "    # vocaublary, add its feature vector to the total\n",
      "    for word in words:\n",
      "        if word in index2word_set: \n",
      "            nwords = nwords + 1.\n",
      "            featureVec = np.add(featureVec,model[word])\n",
      "    # \n",
      "    # Divide the result by the number of words to get the average\n",
      "    featureVec = np.divide(featureVec,nwords)\n",
      "    return featureVec\n",
      "\n",
      "\n",
      "def getAvgFeatureVecs(reviews, model, num_features):\n",
      "    # Given a set of reviews (each one a list of words), calculate \n",
      "    # the average feature vector for each one and return a 2D numpy array \n",
      "    # \n",
      "    # Initialize a counter\n",
      "    counter = 0.\n",
      "    # \n",
      "    # Preallocate a 2D numpy array, for speed\n",
      "    reviewFeatureVecs = np.zeros((len(reviews),num_features),dtype=\"float32\")\n",
      "    # \n",
      "    # Loop through the reviews\n",
      "    for review in reviews:\n",
      "       #\n",
      "       # Print a status message every 1000th review\n",
      "       if counter%1000. == 0.:\n",
      "           print \"Review %d of %d\" % (counter, len(reviews))\n",
      "       # \n",
      "       # Call the function (defined above) that makes average feature vectors\n",
      "       reviewFeatureVecs[counter] = makeFeatureVec(review, model, \\\n",
      "           num_features)\n",
      "       #\n",
      "       # Increment the counter\n",
      "       counter = counter + 1.\n",
      "    return reviewFeatureVecs"
     ],
     "language": "python",
     "metadata": {},
     "outputs": [],
     "prompt_number": 7
    },
    {
     "cell_type": "code",
     "collapsed": false,
     "input": [
      "train = pd.read_csv( \"labeledTrainData.tsv\", header=0, \n",
      " delimiter=\"\\t\", quoting=3 )\n",
      "test = pd.read_csv( \"testData.tsv\", header=0, delimiter=\"\\t\", quoting=3 )\n",
      "unlabeled_train = pd.read_csv( \"unlabeledTrainData.tsv\", header=0, \n",
      " delimiter=\"\\t\", quoting=3 )\n",
      "\n",
      "# Verify the number of reviews that were read (100,000 in total)\n",
      "print \"Read %d labeled train reviews, %d labeled test reviews, \" \"and %d unlabeled reviews\\n\" % (train[\"review\"].size,  test[\"review\"].size, unlabeled_train[\"review\"].size )"
     ],
     "language": "python",
     "metadata": {},
     "outputs": [
      {
       "output_type": "stream",
       "stream": "stdout",
       "text": [
        "Read 25000 labeled train reviews, 25000 labeled test reviews, and 50000 unlabeled reviews\n",
        "\n"
       ]
      }
     ],
     "prompt_number": 8
    },
    {
     "cell_type": "code",
     "collapsed": false,
     "input": [
      "def review_to_wordlist( review, remove_stopwords=False ):\n",
      "    # Function to convert a document to a sequence of words,\n",
      "    # optionally removing stop words.  Returns a list of words.\n",
      "    #\n",
      "    # 1. Remove HTML\n",
      "    review_text = BeautifulSoup(review).get_text()\n",
      "    #  \n",
      "    # 2. Remove non-letters\n",
      "    review_text = re.sub(\"[^a-zA-Z]\",\" \", review_text)\n",
      "    #\n",
      "    # 3. Convert words to lower case and split them\n",
      "    words = review_text.lower().split()\n",
      "    #\n",
      "    # 4. Optionally remove stop words (false by default)\n",
      "    if remove_stopwords:\n",
      "        stops = set(stopwords.words(\"english\"))\n",
      "        words = [w for w in words if not w in stops]\n",
      "    #\n",
      "    # 5. Return a list of words\n",
      "    return(words)"
     ],
     "language": "python",
     "metadata": {},
     "outputs": [],
     "prompt_number": 9
    },
    {
     "cell_type": "code",
     "collapsed": false,
     "input": [
      "# Set values for various parameters\n",
      "num_features = 300    # Word vector dimensionality                      \n",
      "min_word_count = 40   # Minimum word count                        \n",
      "num_workers = 4       # Number of threads to run in parallel\n",
      "context = 10          # Context window size                                                                                    \n",
      "downsampling = 1e-3   # Downsample setting for frequent words\n"
     ],
     "language": "python",
     "metadata": {},
     "outputs": [],
     "prompt_number": 10
    },
    {
     "cell_type": "code",
     "collapsed": false,
     "input": [
      "# ****************************************************************\n",
      "# Calculate average feature vectors for training and testing sets,\n",
      "# using the functions we defined above. Notice that we now use stop word\n",
      "# removal.\n",
      "\n",
      "clean_train_reviews = []\n",
      "for review in train[\"review\"]:\n",
      "    clean_train_reviews.append( review_to_wordlist( review, \\\n",
      "        remove_stopwords=True ))\n",
      "\n",
      "trainDataVecs = getAvgFeatureVecs( clean_train_reviews, model, num_features )\n",
      "\n",
      "print \"Creating average feature vecs for test reviews\"\n",
      "clean_test_reviews = []\n",
      "for review in test[\"review\"]:\n",
      "    clean_test_reviews.append( review_to_wordlist( review, \\\n",
      "        remove_stopwords=True ))\n",
      "\n",
      "testDataVecs = getAvgFeatureVecs( clean_test_reviews, model, num_features )"
     ],
     "language": "python",
     "metadata": {},
     "outputs": [
      {
       "output_type": "stream",
       "stream": "stdout",
       "text": [
        "Review 0 of 25000\n",
        "Review 1000 of 25000"
       ]
      },
      {
       "output_type": "stream",
       "stream": "stdout",
       "text": [
        "\n",
        "Review 2000 of 25000"
       ]
      },
      {
       "output_type": "stream",
       "stream": "stdout",
       "text": [
        "\n",
        "Review 3000 of 25000"
       ]
      },
      {
       "output_type": "stream",
       "stream": "stdout",
       "text": [
        "\n",
        "Review 4000 of 25000"
       ]
      },
      {
       "output_type": "stream",
       "stream": "stdout",
       "text": [
        "\n",
        "Review 5000 of 25000"
       ]
      },
      {
       "output_type": "stream",
       "stream": "stdout",
       "text": [
        "\n",
        "Review 6000 of 25000"
       ]
      },
      {
       "output_type": "stream",
       "stream": "stdout",
       "text": [
        "\n",
        "Review 7000 of 25000"
       ]
      },
      {
       "output_type": "stream",
       "stream": "stdout",
       "text": [
        "\n",
        "Review 8000 of 25000"
       ]
      },
      {
       "output_type": "stream",
       "stream": "stdout",
       "text": [
        "\n",
        "Review 9000 of 25000"
       ]
      },
      {
       "output_type": "stream",
       "stream": "stdout",
       "text": [
        "\n",
        "Review 10000 of 25000"
       ]
      },
      {
       "output_type": "stream",
       "stream": "stdout",
       "text": [
        "\n",
        "Review 11000 of 25000"
       ]
      },
      {
       "output_type": "stream",
       "stream": "stdout",
       "text": [
        "\n",
        "Review 12000 of 25000"
       ]
      },
      {
       "output_type": "stream",
       "stream": "stdout",
       "text": [
        "\n",
        "Review 13000 of 25000"
       ]
      },
      {
       "output_type": "stream",
       "stream": "stdout",
       "text": [
        "\n",
        "Review 14000 of 25000"
       ]
      },
      {
       "output_type": "stream",
       "stream": "stdout",
       "text": [
        "\n",
        "Review 15000 of 25000"
       ]
      },
      {
       "output_type": "stream",
       "stream": "stdout",
       "text": [
        "\n",
        "Review 16000 of 25000"
       ]
      },
      {
       "output_type": "stream",
       "stream": "stdout",
       "text": [
        "\n",
        "Review 17000 of 25000"
       ]
      },
      {
       "output_type": "stream",
       "stream": "stdout",
       "text": [
        "\n",
        "Review 18000 of 25000"
       ]
      },
      {
       "output_type": "stream",
       "stream": "stdout",
       "text": [
        "\n",
        "Review 19000 of 25000"
       ]
      },
      {
       "output_type": "stream",
       "stream": "stdout",
       "text": [
        "\n",
        "Review 20000 of 25000"
       ]
      },
      {
       "output_type": "stream",
       "stream": "stdout",
       "text": [
        "\n",
        "Review 21000 of 25000"
       ]
      },
      {
       "output_type": "stream",
       "stream": "stdout",
       "text": [
        "\n",
        "Review 22000 of 25000"
       ]
      },
      {
       "output_type": "stream",
       "stream": "stdout",
       "text": [
        "\n",
        "Review 23000 of 25000"
       ]
      },
      {
       "output_type": "stream",
       "stream": "stdout",
       "text": [
        "\n",
        "Review 24000 of 25000"
       ]
      },
      {
       "output_type": "stream",
       "stream": "stdout",
       "text": [
        "\n",
        "Creating average feature vecs for test reviews"
       ]
      },
      {
       "output_type": "stream",
       "stream": "stdout",
       "text": [
        "\n",
        "Review 0 of 25000"
       ]
      },
      {
       "output_type": "stream",
       "stream": "stdout",
       "text": [
        "\n",
        "Review 1000 of 25000"
       ]
      },
      {
       "output_type": "stream",
       "stream": "stdout",
       "text": [
        "\n",
        "Review 2000 of 25000"
       ]
      },
      {
       "output_type": "stream",
       "stream": "stdout",
       "text": [
        "\n",
        "Review 3000 of 25000"
       ]
      },
      {
       "output_type": "stream",
       "stream": "stdout",
       "text": [
        "\n",
        "Review 4000 of 25000"
       ]
      },
      {
       "output_type": "stream",
       "stream": "stdout",
       "text": [
        "\n",
        "Review 5000 of 25000"
       ]
      },
      {
       "output_type": "stream",
       "stream": "stdout",
       "text": [
        "\n",
        "Review 6000 of 25000"
       ]
      },
      {
       "output_type": "stream",
       "stream": "stdout",
       "text": [
        "\n",
        "Review 7000 of 25000"
       ]
      },
      {
       "output_type": "stream",
       "stream": "stdout",
       "text": [
        "\n",
        "Review 8000 of 25000"
       ]
      },
      {
       "output_type": "stream",
       "stream": "stdout",
       "text": [
        "\n",
        "Review 9000 of 25000"
       ]
      },
      {
       "output_type": "stream",
       "stream": "stdout",
       "text": [
        "\n",
        "Review 10000 of 25000"
       ]
      },
      {
       "output_type": "stream",
       "stream": "stdout",
       "text": [
        "\n",
        "Review 11000 of 25000"
       ]
      },
      {
       "output_type": "stream",
       "stream": "stdout",
       "text": [
        "\n",
        "Review 12000 of 25000"
       ]
      },
      {
       "output_type": "stream",
       "stream": "stdout",
       "text": [
        "\n",
        "Review 13000 of 25000"
       ]
      },
      {
       "output_type": "stream",
       "stream": "stdout",
       "text": [
        "\n",
        "Review 14000 of 25000"
       ]
      },
      {
       "output_type": "stream",
       "stream": "stdout",
       "text": [
        "\n",
        "Review 15000 of 25000"
       ]
      },
      {
       "output_type": "stream",
       "stream": "stdout",
       "text": [
        "\n",
        "Review 16000 of 25000"
       ]
      },
      {
       "output_type": "stream",
       "stream": "stdout",
       "text": [
        "\n",
        "Review 17000 of 25000"
       ]
      },
      {
       "output_type": "stream",
       "stream": "stdout",
       "text": [
        "\n",
        "Review 18000 of 25000"
       ]
      },
      {
       "output_type": "stream",
       "stream": "stdout",
       "text": [
        "\n",
        "Review 19000 of 25000"
       ]
      },
      {
       "output_type": "stream",
       "stream": "stdout",
       "text": [
        "\n",
        "Review 20000 of 25000"
       ]
      },
      {
       "output_type": "stream",
       "stream": "stdout",
       "text": [
        "\n",
        "Review 21000 of 25000"
       ]
      },
      {
       "output_type": "stream",
       "stream": "stdout",
       "text": [
        "\n",
        "Review 22000 of 25000"
       ]
      },
      {
       "output_type": "stream",
       "stream": "stdout",
       "text": [
        "\n",
        "Review 23000 of 25000"
       ]
      },
      {
       "output_type": "stream",
       "stream": "stdout",
       "text": [
        "\n",
        "Review 24000 of 25000"
       ]
      },
      {
       "output_type": "stream",
       "stream": "stdout",
       "text": [
        "\n"
       ]
      }
     ],
     "prompt_number": 11
    },
    {
     "cell_type": "code",
     "collapsed": false,
     "input": [
      "# Fit a random forest to the training data, using 100 trees\n",
      "from sklearn.ensemble import RandomForestClassifier\n",
      "forest = RandomForestClassifier( n_estimators = 100 )\n",
      "\n",
      "print \"Fitting a random forest to labeled training data...\"\n",
      "forest = forest.fit( trainDataVecs, train[\"sentiment\"] )\n",
      "\n",
      "# Test & extract results \n",
      "result = forest.predict( testDataVecs )\n",
      "\n",
      "# Write the test results \n",
      "output = pd.DataFrame( data={\"id\":test[\"id\"], \"sentiment\":result} )\n",
      "output.to_csv( \"Word2Vec_AverageVectors.csv\", index=False, quoting=3 )"
     ],
     "language": "python",
     "metadata": {},
     "outputs": [
      {
       "output_type": "stream",
       "stream": "stdout",
       "text": [
        "Fitting a random forest to labeled training data...\n"
       ]
      }
     ],
     "prompt_number": 12
    },
    {
     "cell_type": "code",
     "collapsed": false,
     "input": [
      "from sklearn.cluster import KMeans\n",
      "import time\n",
      "\n",
      "start = time.time() # Start time\n",
      "\n",
      "# Set \"k\" (num_clusters) to be 1/5th of the vocabulary size, or an\n",
      "# average of 5 words per cluster\n",
      "word_vectors = model.syn0\n",
      "num_clusters = word_vectors.shape[0] / 5\n",
      "\n",
      "# Initalize a k-means object and use it to extract centroids\n",
      "kmeans_clustering = KMeans( n_clusters = num_clusters )\n",
      "idx = kmeans_clustering.fit_predict( word_vectors )\n",
      "\n",
      "# Get the end time and print how long the process took\n",
      "end = time.time()\n",
      "elapsed = end - start\n",
      "print \"Time taken for K Means clustering: \", elapsed, \"seconds.\""
     ],
     "language": "python",
     "metadata": {},
     "outputs": [
      {
       "output_type": "stream",
       "stream": "stdout",
       "text": [
        "Time taken for K Means clustering:  965.471000195 seconds.\n"
       ]
      }
     ],
     "prompt_number": 13
    },
    {
     "cell_type": "code",
     "collapsed": false,
     "input": [
      "# Create a Word / Index dictionary, mapping each vocabulary word to\n",
      "# a cluster number                                                                                            \n",
      "word_centroid_map = dict(zip( model.index2word, idx ))"
     ],
     "language": "python",
     "metadata": {},
     "outputs": [],
     "prompt_number": 14
    },
    {
     "cell_type": "code",
     "collapsed": false,
     "input": [
      "# For the first 10 clusters\n",
      "for cluster in xrange(0,10):\n",
      "    #\n",
      "    # Print the cluster number  \n",
      "    print \"\\nCluster %d\" % cluster\n",
      "    #\n",
      "    # Find all of the words for that cluster number, and print them out\n",
      "    words = []\n",
      "    for i in xrange(0,len(word_centroid_map.values())):\n",
      "        if( word_centroid_map.values()[i] == cluster ):\n",
      "            words.append(word_centroid_map.keys()[i])\n",
      "    print words"
     ],
     "language": "python",
     "metadata": {},
     "outputs": [
      {
       "output_type": "stream",
       "stream": "stdout",
       "text": [
        "\n",
        "Cluster 0\n",
        "[u'enlist', u'reluctant']"
       ]
      },
      {
       "output_type": "stream",
       "stream": "stdout",
       "text": [
        "\n",
        "\n",
        "Cluster 1\n",
        "[u'prophetic']"
       ]
      },
      {
       "output_type": "stream",
       "stream": "stdout",
       "text": [
        "\n",
        "\n",
        "Cluster 2\n",
        "[u'bannister', u'stern', u'reuben', u'dixon', u'engineer', u'marvin', u'coward', u'wu', u'tong', u'carr', u'nemesis', u'liu', u'hector', u'typecast', u'sloan', u'po', u'bodyguard', u'valjean', u'kirby', u'morrison', u'hamill', u'bogey', u'champ']"
       ]
      },
      {
       "output_type": "stream",
       "stream": "stdout",
       "text": [
        "\n",
        "\n",
        "Cluster 3\n",
        "[u'copying']"
       ]
      },
      {
       "output_type": "stream",
       "stream": "stdout",
       "text": [
        "\n",
        "\n",
        "Cluster 4\n",
        "[u'gays', u'italians', u'minorities', u'canadians', u'brits', u'asians', u'westerners']"
       ]
      },
      {
       "output_type": "stream",
       "stream": "stdout",
       "text": [
        "\n",
        "\n",
        "Cluster 5\n",
        "[u'misplaced']"
       ]
      },
      {
       "output_type": "stream",
       "stream": "stdout",
       "text": [
        "\n",
        "\n",
        "Cluster 6\n",
        "[u'pose', u'contacts', u'caller']"
       ]
      },
      {
       "output_type": "stream",
       "stream": "stdout",
       "text": [
        "\n",
        "\n",
        "Cluster 7\n",
        "[u'oblivious', u'impulse', u'powerless', u'misguided', u'procedure']"
       ]
      },
      {
       "output_type": "stream",
       "stream": "stdout",
       "text": [
        "\n",
        "\n",
        "Cluster 8\n",
        "[u'ins', u'elite', u'botched', u'swat', u'commandos', u'squad', u'teams', u'commando', u'nuke']"
       ]
      },
      {
       "output_type": "stream",
       "stream": "stdout",
       "text": [
        "\n",
        "\n",
        "Cluster 9\n",
        "[u'glossy', u'enhances', u'docu', u'minimalist', u'offset', u'stylistically', u'staging', u'mise', u'stagy', u'vibe', u'scoring', u'hitchcockian', u'taut', u'gloss', u'ensures', u'camerawork', u'unusually', u'solidly', u'naturalistic']"
       ]
      },
      {
       "output_type": "stream",
       "stream": "stdout",
       "text": [
        "\n"
       ]
      }
     ],
     "prompt_number": 15
    },
    {
     "cell_type": "code",
     "collapsed": false,
     "input": [
      "def create_bag_of_centroids( wordlist, word_centroid_map ):\n",
      "    #\n",
      "    # The number of clusters is equal to the highest cluster index\n",
      "    # in the word / centroid map\n",
      "    num_centroids = max( word_centroid_map.values() ) + 1\n",
      "    #\n",
      "    # Pre-allocate the bag of centroids vector (for speed)\n",
      "    bag_of_centroids = np.zeros( num_centroids, dtype=\"float32\" )\n",
      "    #\n",
      "    # Loop over the words in the review. If the word is in the vocabulary,\n",
      "    # find which cluster it belongs to, and increment that cluster count \n",
      "    # by one\n",
      "    for word in wordlist:\n",
      "        if word in word_centroid_map:\n",
      "            index = word_centroid_map[word]\n",
      "            bag_of_centroids[index] += 1\n",
      "    #\n",
      "    # Return the \"bag of centroids\"\n",
      "    return bag_of_centroids"
     ],
     "language": "python",
     "metadata": {},
     "outputs": [],
     "prompt_number": 16
    },
    {
     "cell_type": "code",
     "collapsed": false,
     "input": [
      "# Pre-allocate an array for the training set bags of centroids (for speed)\n",
      "train_centroids = np.zeros( (train[\"review\"].size, num_clusters), \\\n",
      "    dtype=\"float32\" )\n",
      "\n",
      "# Transform the training set reviews into bags of centroids\n",
      "counter = 0\n",
      "for review in clean_train_reviews:\n",
      "    train_centroids[counter] = create_bag_of_centroids( review, \\\n",
      "        word_centroid_map )\n",
      "    counter += 1\n",
      "\n",
      "# Repeat for test reviews \n",
      "test_centroids = np.zeros(( test[\"review\"].size, num_clusters), \\\n",
      "    dtype=\"float32\" )\n",
      "\n",
      "counter = 0\n",
      "for review in clean_test_reviews:\n",
      "    test_centroids[counter] = create_bag_of_centroids( review, \\\n",
      "        word_centroid_map )\n",
      "    counter += 1"
     ],
     "language": "python",
     "metadata": {},
     "outputs": [],
     "prompt_number": 17
    },
    {
     "cell_type": "code",
     "collapsed": false,
     "input": [
      "# Fit a random forest and extract predictions \n",
      "forest = RandomForestClassifier(n_estimators = 100)\n",
      "\n",
      "# Fitting the forest may take a few minutes\n",
      "print \"Fitting a random forest to labeled training data...\"\n",
      "forest = forest.fit(train_centroids,train[\"sentiment\"])\n",
      "result = forest.predict(test_centroids)\n",
      "\n",
      "# Write the test results \n",
      "output = pd.DataFrame(data={\"id\":test[\"id\"], \"sentiment\":result})\n",
      "output.to_csv( \"BagOfCentroids.csv\", index=False, quoting=3 )"
     ],
     "language": "python",
     "metadata": {},
     "outputs": [
      {
       "output_type": "stream",
       "stream": "stdout",
       "text": [
        "Fitting a random forest to labeled training data...\n"
       ]
      }
     ],
     "prompt_number": 18
    },
    {
     "cell_type": "code",
     "collapsed": false,
     "input": [],
     "language": "python",
     "metadata": {},
     "outputs": []
    }
   ],
   "metadata": {}
  }
 ]
}